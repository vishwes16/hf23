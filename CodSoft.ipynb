{
  "nbformat": 4,
  "nbformat_minor": 0,
  "metadata": {
    "colab": {
      "provenance": [],
      "authorship_tag": "ABX9TyMeWlPlF7Pzpv59zyiEuOpw",
      "include_colab_link": true
    },
    "kernelspec": {
      "name": "python3",
      "display_name": "Python 3"
    },
    "language_info": {
      "name": "python"
    }
  },
  "cells": [
    {
      "cell_type": "markdown",
      "metadata": {
        "id": "view-in-github",
        "colab_type": "text"
      },
      "source": [
        "<a href=\"https://colab.research.google.com/github/vishwes16/pythoncode/blob/main/CodSoft.ipynb\" target=\"_parent\"><img src=\"https://colab.research.google.com/assets/colab-badge.svg\" alt=\"Open In Colab\"/></a>"
      ]
    },
    {
      "cell_type": "code",
      "execution_count": 1,
      "metadata": {
        "colab": {
          "base_uri": "https://localhost:8080/"
        },
        "id": "FRqcR3ai_TCe",
        "outputId": "112f1975-b85d-4874-a0f3-b17ba7f569a3"
      },
      "outputs": [
        {
          "output_type": "stream",
          "name": "stdout",
          "text": [
            "🎮 Welcome to Rock-Paper-Scissors Game! 🎮\n",
            "\n",
            "Choose one: Rock, Paper, or Scissors\n",
            "Your choice: rock\n",
            "\n",
            "🧑 You chose: Rock\n",
            "💻 Computer chose: Rock\n",
            "🤝 It's a tie!\n",
            "\n",
            "🏆 Scores => You: 0 | Computer: 0\n",
            "\n",
            "Do you want to play another round? (yes/no): yes\n",
            "\n",
            "Choose one: Rock, Paper, or Scissors\n",
            "Your choice: paper\n",
            "\n",
            "🧑 You chose: Paper\n",
            "💻 Computer chose: Rock\n",
            "✅ You win this round!\n",
            "\n",
            "🏆 Scores => You: 1 | Computer: 0\n",
            "\n",
            "Do you want to play another round? (yes/no): no\n",
            "\n",
            "🎉 Final Score 🎉\n",
            "You: 1 | Computer: 0\n",
            "Thanks for playing! Goodbye!\n"
          ]
        }
      ],
      "source": [
        "import random\n",
        "\n",
        "def get_user_choice():\n",
        "    while True:\n",
        "        print(\"\\nChoose one: Rock, Paper, or Scissors\")\n",
        "        user_input = input(\"Your choice: \").strip().lower()\n",
        "        if user_input in ['rock', 'paper', 'scissors']:\n",
        "            return user_input\n",
        "        else:\n",
        "            print(\"Invalid input! Please choose Rock, Paper, or Scissors.\")\n",
        "\n",
        "def get_computer_choice():\n",
        "    return random.choice(['rock', 'paper', 'scissors'])\n",
        "\n",
        "def determine_winner(user, computer):\n",
        "    if user == computer:\n",
        "        return \"tie\"\n",
        "    elif (user == \"rock\" and computer == \"scissors\") or \\\n",
        "         (user == \"scissors\" and computer == \"paper\") or \\\n",
        "         (user == \"paper\" and computer == \"rock\"):\n",
        "        return \"user\"\n",
        "    else:\n",
        "        return \"computer\"\n",
        "\n",
        "def play_game():\n",
        "    user_score = 0\n",
        "    computer_score = 0\n",
        "\n",
        "    print(\"🎮 Welcome to Rock-Paper-Scissors Game! 🎮\")\n",
        "\n",
        "    while True:\n",
        "        user_choice = get_user_choice()\n",
        "        computer_choice = get_computer_choice()\n",
        "\n",
        "        print(f\"\\n🧑 You chose: {user_choice.capitalize()}\")\n",
        "        print(f\"💻 Computer chose: {computer_choice.capitalize()}\")\n",
        "\n",
        "        result = determine_winner(user_choice, computer_choice)\n",
        "\n",
        "        if result == \"tie\":\n",
        "            print(\"🤝 It's a tie!\")\n",
        "        elif result == \"user\":\n",
        "            print(\"✅ You win this round!\")\n",
        "            user_score += 1\n",
        "        else:\n",
        "            print(\"❌ Computer wins this round!\")\n",
        "            computer_score += 1\n",
        "\n",
        "        print(f\"\\n🏆 Scores => You: {user_score} | Computer: {computer_score}\")\n",
        "\n",
        "        play_again = input(\"\\nDo you want to play another round? (yes/no): \").strip().lower()\n",
        "        if play_again != 'yes':\n",
        "            print(\"\\n🎉 Final Score 🎉\")\n",
        "            print(f\"You: {user_score} | Computer: {computer_score}\")\n",
        "            print(\"Thanks for playing! Goodbye!\")\n",
        "            break\n",
        "\n",
        "# Run the game\n",
        "play_game()\n"
      ]
    },
    {
      "cell_type": "code",
      "source": [
        "import random\n",
        "import string\n",
        "\n",
        "def generate_password(length):\n",
        "    # Combine all possible characters: letters, digits, and punctuation\n",
        "    characters = string.ascii_letters + string.digits + string.punctuation\n",
        "    # Randomly select characters from the combined pool\n",
        "    password = ''.join(random.choice(characters) for _ in range(length))\n",
        "    return password\n",
        "\n",
        "# Prompt user for password length\n",
        "try:\n",
        "    length = int(input(\"Enter the desired password length: \"))\n",
        "    if length <= 0:\n",
        "        print(\"Please enter a positive number.\")\n",
        "    else:\n",
        "        # Generate and display the password\n",
        "        password = generate_password(length)\n",
        "        print(f\"Generated Password: {password}\")\n",
        "except ValueError:\n",
        "    print(\"Invalid input. Please enter a number.\")\n"
      ],
      "metadata": {
        "id": "2IjTlho3FSCB",
        "colab": {
          "base_uri": "https://localhost:8080/"
        },
        "outputId": "2e2d0577-3dab-497a-8f39-ce4f0caffe6d"
      },
      "execution_count": 2,
      "outputs": [
        {
          "output_type": "stream",
          "name": "stdout",
          "text": [
            "Enter the desired password length: 7\n",
            "Generated Password: %6VF'<W\n"
          ]
        }
      ]
    },
    {
      "cell_type": "code",
      "source": [
        "def add(x, y):\n",
        "    return x + y\n",
        "\n",
        "def subtract(x, y):\n",
        "    return x - y\n",
        "\n",
        "def multiply(x, y):\n",
        "    return x * y\n",
        "\n",
        "def divide(x, y):\n",
        "    if y == 0:\n",
        "        return \"Error: Cannot divide by zero!\"\n",
        "    return x / y\n",
        "\n",
        "print(\"Simple Calculator\")\n",
        "print(\"------------------\")\n",
        "print(\"Select operation:\")\n",
        "print(\"1. Addition (+)\")\n",
        "print(\"2. Subtraction (-)\")\n",
        "print(\"3. Multiplication (*)\")\n",
        "print(\"4. Division (/)\")\n",
        "\n",
        "try:\n",
        "    num1 = float(input(\"\\nEnter first number: \"))\n",
        "    num2 = float(input(\"Enter second number: \"))\n",
        "    choice = input(\"Enter choice (+, -, *, /): \")\n",
        "\n",
        "    if choice == '+':\n",
        "        result = add(num1, num2)\n",
        "    elif choice == '-':\n",
        "        result = subtract(num1, num2)\n",
        "    elif choice == '*':\n",
        "        result = multiply(num1, num2)\n",
        "    elif choice == '/':\n",
        "        result = divide(num1, num2)\n",
        "    else:\n",
        "        result = \"Invalid operation choice.\"\n",
        "\n",
        "    print(f\"\\nResult: {result}\")\n",
        "\n",
        "except ValueError:\n",
        "    print(\"Invalid input. Please enter numeric values.\")\n",
        "\n"
      ],
      "metadata": {
        "colab": {
          "base_uri": "https://localhost:8080/"
        },
        "id": "PMWVj1gKux9_",
        "outputId": "cfdadb59-3b69-49e8-ad26-40bcc9f6cb6e"
      },
      "execution_count": 1,
      "outputs": [
        {
          "output_type": "stream",
          "name": "stdout",
          "text": [
            "Simple Calculator\n",
            "------------------\n",
            "Select operation:\n",
            "1. Addition (+)\n",
            "2. Subtraction (-)\n",
            "3. Multiplication (*)\n",
            "4. Division (/)\n",
            "\n",
            "Enter first number: 1\n",
            "Enter second number: 2\n",
            "Enter choice (+, -, *, /): +\n",
            "\n",
            "Result: 3.0\n"
          ]
        }
      ]
    }
  ]
}